{
 "cells": [
  {
   "cell_type": "markdown",
   "metadata": {},
   "source": [
    "# Part A: Real-World Organizational Situtation or Issue\n",
    "\n",
    "### 1: How do the values, average weekly outage time and yearly equipment failure affect the Churn Rate of customers?\n",
    "\n",
    "### 2: Stakeholders in the organization can benefit from this by knowing if allocating resources to improving infrastructure and equipment can reduce the Churn Rate of their customers. \n",
    "\n",
    "### 3: The relevant data needed to answer this question is as follows. \n",
    "- Did the customer Churn? \n",
    "- What was the average number of seconds per week of system outages in the customer's neighborhood? \n",
    "- What was the number of times customer's equipment failed and had to be reset/replaced in the past year? \n",
    "- How many months has the customer stayed with the provider."
   ]
  },
  {
   "cell_type": "markdown",
   "metadata": {},
   "source": [
    "# Part B: Data Analysis using a t-test"
   ]
  },
  {
   "cell_type": "markdown",
   "metadata": {},
   "source": []
  }
 ],
 "metadata": {
  "kernelspec": {
   "display_name": "Python 3 (ipykernel)",
   "language": "python",
   "name": "python3"
  },
  "language_info": {
   "codemirror_mode": {
    "name": "ipython",
    "version": 3
   },
   "file_extension": ".py",
   "mimetype": "text/x-python",
   "name": "python",
   "nbconvert_exporter": "python",
   "pygments_lexer": "ipython3",
   "version": "3.9.7"
  }
 },
 "nbformat": 4,
 "nbformat_minor": 4
}
