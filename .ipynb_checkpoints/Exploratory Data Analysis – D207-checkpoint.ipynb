{
 "cells": [
  {
   "cell_type": "markdown",
   "metadata": {},
   "source": [
    "# Part A: Real-World Organizational Situtation or Issue\n",
    "\n",
    "## 1: How do the values, average weekly outage time and yearly equipment failure affect the Churn Rate of customers?\n",
    "\n",
    "## 2: Stakeholders in the organization can benefit from this by knowing if allocating resources to improving infrastructure and equipment can reduce the Churn Rate of their customers. \n",
    "\n",
    "## 3: The relevant data needed to answer this question is as follows. Did the customer Churn? What was the average number of seconds per week of system outages in the customer's neighborhood? What was the number of times customer's equipment failed and had to be reset/replaced in the past year? Another useful data point is the number of months the customer has stayed with the provider."
   ]
  },
  {
   "cell_type": "markdown",
   "metadata": {},
   "source": [
    "# Part B: Data Analysis using the chi-square technique"
   ]
  },
  {
   "cell_type": "code",
   "execution_count": null,
   "metadata": {},
   "outputs": [],
   "source": []
  }
 ],
 "metadata": {
  "kernelspec": {
   "display_name": "Python 3",
   "language": "python",
   "name": "python3"
  },
  "language_info": {
   "codemirror_mode": {
    "name": "ipython",
    "version": 3
   },
   "file_extension": ".py",
   "mimetype": "text/x-python",
   "name": "python",
   "nbconvert_exporter": "python",
   "pygments_lexer": "ipython3",
   "version": "3.8.5"
  }
 },
 "nbformat": 4,
 "nbformat_minor": 4
}
