{
 "cells": [
  {
   "cell_type": "markdown",
   "metadata": {},
   "source": [
    "# Part A: Real-World Organizational Situtation or Issue\n",
    "\n",
    "### 1: How does the realibily of the customer's equipment and the timeliness of fixing and replacing equipment affect the Churn Rate of customers?\n",
    "\n",
    "### 2: Stakeholders in the organization can benefit from this by knowing if allocating resources to improving the timeliness of fixing and replacing of equipment can reduce the Churn Rate of their customers. \n",
    "\n",
    "### 3: The relevant data needed to answer this question is as follows. \n",
    "- Did the customer Churn? \n",
    "- Were the responses to fixes timely?\n",
    "- Were the responses to replacements timely?\n",
    "- What was the average number of seconds per week of system outages in the customer's neighborhood? \n",
    "- What was the number of times customer's equipment failed and had to be reset/replaced in the past year? "
   ]
  },
  {
   "cell_type": "markdown",
   "metadata": {},
   "source": [
    "# Part B: Data Analysis using a chi-square"
   ]
  },
  {
   "cell_type": "markdown",
   "metadata": {},
   "source": [
    "### 1. Code to run the analysis"
   ]
  },
  {
   "cell_type": "code",
   "execution_count": 1,
   "metadata": {},
   "outputs": [],
   "source": [
    "# Imports\n",
    "\n",
    "import pandas as pd\n",
    "import matplotlib.pyplot as plt\n",
    "%matplotlib inline\n",
    "import seaborn as sns\n",
    "\n",
    "from scipy import stats\n",
    "from scipy.stats import chi2\n",
    "from scipy.stats import chi2_contingency\n",
    "\n",
    "\n",
    "# Raw Data to DataFrame\n",
    "df = pd.read_csv('churn_clean.csv', encoding='utf-8', index_col=0)"
   ]
  },
  {
   "cell_type": "code",
   "execution_count": 2,
   "metadata": {},
   "outputs": [],
   "source": [
    "# Rename survey columns for better readability \n",
    "df.rename(columns = { \n",
    "                    'Item2':'Fixes', \n",
    "                     'Item3':'Replacements', }, \n",
    "          inplace=True)"
   ]
  },
  {
   "cell_type": "code",
   "execution_count": 3,
   "metadata": {},
   "outputs": [
    {
     "data": {
      "text/html": [
       "<div>\n",
       "<style scoped>\n",
       "    .dataframe tbody tr th:only-of-type {\n",
       "        vertical-align: middle;\n",
       "    }\n",
       "\n",
       "    .dataframe tbody tr th {\n",
       "        vertical-align: top;\n",
       "    }\n",
       "\n",
       "    .dataframe thead th {\n",
       "        text-align: right;\n",
       "    }\n",
       "</style>\n",
       "<table border=\"1\" class=\"dataframe\">\n",
       "  <thead>\n",
       "    <tr style=\"text-align: right;\">\n",
       "      <th>Churn</th>\n",
       "      <th>No</th>\n",
       "      <th>Yes</th>\n",
       "    </tr>\n",
       "    <tr>\n",
       "      <th>Fixes</th>\n",
       "      <th></th>\n",
       "      <th></th>\n",
       "    </tr>\n",
       "  </thead>\n",
       "  <tbody>\n",
       "    <tr>\n",
       "      <th>1</th>\n",
       "      <td>160</td>\n",
       "      <td>57</td>\n",
       "    </tr>\n",
       "    <tr>\n",
       "      <th>2</th>\n",
       "      <td>973</td>\n",
       "      <td>387</td>\n",
       "    </tr>\n",
       "    <tr>\n",
       "      <th>3</th>\n",
       "      <td>2519</td>\n",
       "      <td>896</td>\n",
       "    </tr>\n",
       "    <tr>\n",
       "      <th>4</th>\n",
       "      <td>2507</td>\n",
       "      <td>905</td>\n",
       "    </tr>\n",
       "    <tr>\n",
       "      <th>5</th>\n",
       "      <td>1025</td>\n",
       "      <td>343</td>\n",
       "    </tr>\n",
       "    <tr>\n",
       "      <th>6</th>\n",
       "      <td>155</td>\n",
       "      <td>60</td>\n",
       "    </tr>\n",
       "    <tr>\n",
       "      <th>7</th>\n",
       "      <td>11</td>\n",
       "      <td>2</td>\n",
       "    </tr>\n",
       "  </tbody>\n",
       "</table>\n",
       "</div>"
      ],
      "text/plain": [
       "Churn    No  Yes\n",
       "Fixes           \n",
       "1       160   57\n",
       "2       973  387\n",
       "3      2519  896\n",
       "4      2507  905\n",
       "5      1025  343\n",
       "6       155   60\n",
       "7        11    2"
      ]
     },
     "execution_count": 3,
     "metadata": {},
     "output_type": "execute_result"
    }
   ],
   "source": [
    "ctab_fixes = pd.crosstab(df['Fixes'], df['Churn'])\n",
    "ctab_fixes"
   ]
  },
  {
   "cell_type": "code",
   "execution_count": 4,
   "metadata": {},
   "outputs": [
    {
     "data": {
      "text/plain": [
       "<AxesSubplot:xlabel='Fixes'>"
      ]
     },
     "execution_count": 4,
     "metadata": {},
     "output_type": "execute_result"
    },
    {
     "data": {
      "image/png": "[encoded data removed]",
      "text/plain": [
       "<Figure size 432x288 with 1 Axes>"
      ]
     },
     "metadata": {
      "needs_background": "light"
     },
     "output_type": "display_data"
    }
   ],
   "source": [
    "ctab_fixes.plot(kind='bar', stacked=False)"
   ]
  },
  {
   "cell_type": "code",
   "execution_count": 5,
   "metadata": {},
   "outputs": [
    {
     "data": {
      "text/html": [
       "<div>\n",
       "<style scoped>\n",
       "    .dataframe tbody tr th:only-of-type {\n",
       "        vertical-align: middle;\n",
       "    }\n",
       "\n",
       "    .dataframe tbody tr th {\n",
       "        vertical-align: top;\n",
       "    }\n",
       "\n",
       "    .dataframe thead th {\n",
       "        text-align: right;\n",
       "    }\n",
       "</style>\n",
       "<table border=\"1\" class=\"dataframe\">\n",
       "  <thead>\n",
       "    <tr style=\"text-align: right;\">\n",
       "      <th>Churn</th>\n",
       "      <th>No</th>\n",
       "      <th>Yes</th>\n",
       "    </tr>\n",
       "    <tr>\n",
       "      <th>Replacements</th>\n",
       "      <th></th>\n",
       "      <th></th>\n",
       "    </tr>\n",
       "  </thead>\n",
       "  <tbody>\n",
       "    <tr>\n",
       "      <th>1</th>\n",
       "      <td>146</td>\n",
       "      <td>56</td>\n",
       "    </tr>\n",
       "    <tr>\n",
       "      <th>2</th>\n",
       "      <td>1017</td>\n",
       "      <td>407</td>\n",
       "    </tr>\n",
       "    <tr>\n",
       "      <th>3</th>\n",
       "      <td>2540</td>\n",
       "      <td>895</td>\n",
       "    </tr>\n",
       "    <tr>\n",
       "      <th>4</th>\n",
       "      <td>2527</td>\n",
       "      <td>883</td>\n",
       "    </tr>\n",
       "    <tr>\n",
       "      <th>5</th>\n",
       "      <td>960</td>\n",
       "      <td>353</td>\n",
       "    </tr>\n",
       "    <tr>\n",
       "      <th>6</th>\n",
       "      <td>149</td>\n",
       "      <td>54</td>\n",
       "    </tr>\n",
       "    <tr>\n",
       "      <th>7</th>\n",
       "      <td>10</td>\n",
       "      <td>2</td>\n",
       "    </tr>\n",
       "    <tr>\n",
       "      <th>8</th>\n",
       "      <td>1</td>\n",
       "      <td>0</td>\n",
       "    </tr>\n",
       "  </tbody>\n",
       "</table>\n",
       "</div>"
      ],
      "text/plain": [
       "Churn           No  Yes\n",
       "Replacements           \n",
       "1              146   56\n",
       "2             1017  407\n",
       "3             2540  895\n",
       "4             2527  883\n",
       "5              960  353\n",
       "6              149   54\n",
       "7               10    2\n",
       "8                1    0"
      ]
     },
     "execution_count": 5,
     "metadata": {},
     "output_type": "execute_result"
    }
   ],
   "source": [
    "ctab_replacements = pd.crosstab(df['Replacements'], df['Churn'])\n",
    "ctab_replacements"
   ]
  },
  {
   "cell_type": "code",
   "execution_count": 6,
   "metadata": {},
   "outputs": [
    {
     "data": {
      "text/plain": [
       "<AxesSubplot:xlabel='Replacements'>"
      ]
     },
     "execution_count": 6,
     "metadata": {},
     "output_type": "execute_result"
    },
    {
     "data": {
      "image/png": "[encoded data removed]",
      "text/plain": [
       "<Figure size 432x288 with 1 Axes>"
      ]
     },
     "metadata": {
      "needs_background": "light"
     },
     "output_type": "display_data"
    }
   ],
   "source": [
    "ctab_replacements.plot(kind='bar', stacked=False)"
   ]
  },
  {
   "cell_type": "markdown",
   "metadata": {},
   "source": [
    "### 2. Output of calculations \n",
    "Here we can do chi-square tests for independence. This will be tell us if the yes/no variable Churn is independent from our Timely Fixes/Replacement variables. (Brownlee, J. 2019)"
   ]
  },
  {
   "cell_type": "code",
   "execution_count": 7,
   "metadata": {},
   "outputs": [
    {
     "name": "stdout",
     "output_type": "stream",
     "text": [
      "Churn/Fixes p value = 0.5093789499498207\n"
     ]
    }
   ],
   "source": [
    "# Chi-square test of independence for fixes\n",
    "stat, p, dof, expected = chi2_contingency(ctab_fixes)\n",
    "print('Churn/Fixes p value = ' + str(p))"
   ]
  },
  {
   "cell_type": "code",
   "execution_count": 8,
   "metadata": {},
   "outputs": [
    {
     "name": "stdout",
     "output_type": "stream",
     "text": [
      "Churn/Replacements p value = 0.6148391285975547\n"
     ]
    }
   ],
   "source": [
    "# Chi-square test of independence for replacements\n",
    "stat, p, dof, expected = chi2_contingency(ctab_replacements)\n",
    "print('Churn/Replacements p value = ' + str(p))"
   ]
  },
  {
   "cell_type": "markdown",
   "metadata": {},
   "source": [
    "### 3. Justification\n",
    "\n",
    "I used the chi-squared technique to test the dependancy between the categorical variable of whether or not a customer Churned, to the categorical variables Timely Fixes/Replacements. By using chi-squared technique I was able to determine how significant the variables were to eachother and if there was a significate correlation between them. (Brownlee, J. 2019)"
   ]
  },
  {
   "cell_type": "markdown",
   "metadata": {},
   "source": [
    "# Part C: Identify the distribution of two continuous variables and two categorical variables using univariate statistics\n",
    "\n",
    "### Continuous variables:\n",
    "- Outage seconds per week\n",
    "- Yearly equipment failure\n",
    "\n",
    "### Categorical variables:\n",
    "- Timely Fixes\n",
    "- Timely Replacements"
   ]
  },
  {
   "cell_type": "markdown",
   "metadata": {},
   "source": [
    "### 1. Visual representations"
   ]
  },
  {
   "cell_type": "code",
   "execution_count": 9,
   "metadata": {},
   "outputs": [
    {
     "data": {
      "image/png": "[encoded data removed]",
      "text/plain": [
       "<Figure size 432x288 with 4 Axes>"
      ]
     },
     "metadata": {
      "needs_background": "light"
     },
     "output_type": "display_data"
    }
   ],
   "source": [
    "df[['Yearly_equip_failure', 'Outage_sec_perweek', 'Fixes', 'Replacements']].hist()\n",
    "plt.show()"
   ]
  },
  {
   "cell_type": "code",
   "execution_count": 10,
   "metadata": {},
   "outputs": [
    {
     "data": {
      "image/png": "[encoded data removed]",
      "text/plain": [
       "<Figure size 432x288 with 1 Axes>"
      ]
     },
     "metadata": {
      "needs_background": "light"
     },
     "output_type": "display_data"
    }
   ],
   "source": [
    "plt.boxplot(df['Yearly_equip_failure'])\n",
    "plt.show()"
   ]
  },
  {
   "cell_type": "code",
   "execution_count": 11,
   "metadata": {},
   "outputs": [
    {
     "data": {
      "image/png": "[encoded data removed]",
      "text/plain": [
       "<Figure size 432x288 with 1 Axes>"
      ]
     },
     "metadata": {
      "needs_background": "light"
     },
     "output_type": "display_data"
    }
   ],
   "source": [
    "plt.boxplot(df['Outage_sec_perweek'])\n",
    "plt.show()"
   ]
  },
  {
   "cell_type": "code",
   "execution_count": 12,
   "metadata": {},
   "outputs": [
    {
     "data": {
      "image/png": "[encoded data removed]",
      "text/plain": [
       "<Figure size 432x288 with 1 Axes>"
      ]
     },
     "metadata": {
      "needs_background": "light"
     },
     "output_type": "display_data"
    }
   ],
   "source": [
    "plt.boxplot(df['Fixes'])\n",
    "plt.show()"
   ]
  },
  {
   "cell_type": "code",
   "execution_count": 13,
   "metadata": {},
   "outputs": [
    {
     "data": {
      "image/png": "[encoded data removed]",
      "text/plain": [
       "<Figure size 432x288 with 1 Axes>"
      ]
     },
     "metadata": {
      "needs_background": "light"
     },
     "output_type": "display_data"
    }
   ],
   "source": [
    "plt.boxplot(df['Replacements'])\n",
    "plt.show()"
   ]
  },
  {
   "cell_type": "markdown",
   "metadata": {},
   "source": [
    "# Part D: Identify the distribution of two continuous variables and two categorical variables using bivariate statistics \n",
    "\n",
    "### Continuous variables:\n",
    "- Outage seconds per week\n",
    "- Yearly equipment failure\n",
    "\n",
    "### Categorical variables:\n",
    "- Timely Fixes\n",
    "- Timely Replacements"
   ]
  },
  {
   "cell_type": "code",
   "execution_count": 14,
   "metadata": {},
   "outputs": [],
   "source": [
    "bivariate_variables = df[['Yearly_equip_failure', 'Outage_sec_perweek', 'Fixes', 'Replacements']]"
   ]
  },
  {
   "cell_type": "code",
   "execution_count": 15,
   "metadata": {},
   "outputs": [
    {
     "data": {
      "image/png": "[encoded data removed]",
      "text/plain": [
       "<Figure size 432x288 with 1 Axes>"
      ]
     },
     "metadata": {
      "needs_background": "light"
     },
     "output_type": "display_data"
    },
    {
     "data": {
      "image/png": "[encoded data removed]",
      "text/plain": [
       "<Figure size 432x288 with 1 Axes>"
      ]
     },
     "metadata": {
      "needs_background": "light"
     },
     "output_type": "display_data"
    }
   ],
   "source": [
    "## Scatter plots generated according to Bilogur, A. (2018)\n",
    "\n",
    "bivariate_variables.plot.scatter(x='Outage_sec_perweek', y='Yearly_equip_failure')\n",
    "plt.show()\n",
    "\n",
    "bivariate_variables.plot.scatter(x='Fixes',  y='Replacements')\n",
    "plt.show()"
   ]
  },
  {
   "cell_type": "code",
   "execution_count": 16,
   "metadata": {},
   "outputs": [
    {
     "data": {
      "image/png": "[encoded data removed]",
      "text/plain": [
       "<Figure size 432x288 with 2 Axes>"
      ]
     },
     "metadata": {
      "needs_background": "light"
     },
     "output_type": "display_data"
    }
   ],
   "source": [
    "sns.heatmap(bivariate_variables.corr(), annot=True)\n",
    "plt.show()"
   ]
  },
  {
   "cell_type": "markdown",
   "metadata": {},
   "source": [
    "# Part E: Summarize the implications\n",
    "\n",
    "### 1. Results\n",
    "   The p values found from both chi-square testing:\n",
    "   - Churn/Fixes p value = 0.5093789499498207\n",
    "   - Churn/Replacements p value = 0.6148391285975547\n",
    "   Both results are high enough to where we cannot reject a null hypothesis of the variables being independent at a standard significance alpha of .05. Given the data available, it's not clear if there's a statistically significant relationship between the timeliness of the customer's equipment being fixed or replaced with if they're more likely to churn or not. (Brownlee, J. 2019)\n",
    "\n",
    "\n",
    "### 2. Limitations\n",
    "   Without more information surrounding the survey questions it's difficult to determine how dependable they are for further analysis or for analysis with other variables in this dataset. \n",
    "\n",
    "### 3. Recommended course of action\n",
    "   While fixing and replacing equipment in a timely manner would seem important to customer satisfaction, the data analysis on these variables show that there isn't statistical significance regarding these variables and how often customers have churned. The recommended course of action is continue to provide services in a timely manner to the customer, and to continue to analyze different variables for other trends that are more clearly significant statistically to act on.\n",
    "    "
   ]
  },
  {
   "cell_type": "markdown",
   "metadata": {},
   "source": [
    "# Part F: Video\n",
    "\n",
    "https://wgu.hosted.panopto.com/Panopto/Pages/Viewer.aspx?id=e41699f3-55ef-4471-a4ec-ae10017c8d6d"
   ]
  },
  {
   "cell_type": "markdown",
   "metadata": {},
   "source": [
    "# Part G: Code Sources\n",
    "\n",
    "Bilogur, A. (2018, September 19). _Bivariate plotting with Pandas._ Kaggle. Retrieved January 5, 2022, from https://www.kaggle.com/residentmario/bivariate-plotting-with-pandas "
   ]
  },
  {
   "cell_type": "markdown",
   "metadata": {},
   "source": [
    "# Part H: Sources\n",
    "\n",
    "Brownlee, J. (2019, October 30). _A gentle introduction to the chi-squared test for machine learning._ Machine Learning Mastery. Retrieved January 5, 2022, from https://machinelearningmastery.com/chi-squared-test-for-machine-learning/ \n"
   ]
  },
  {
   "cell_type": "code",
   "execution_count": null,
   "metadata": {},
   "outputs": [],
   "source": []
  }
 ],
 "metadata": {
  "kernelspec": {
   "display_name": "Python 3 (ipykernel)",
   "language": "python",
   "name": "python3"
  },
  "language_info": {
   "codemirror_mode": {
    "name": "ipython",
    "version": 3
   },
   "file_extension": ".py",
   "mimetype": "text/x-python",
   "name": "python",
   "nbconvert_exporter": "python",
   "pygments_lexer": "ipython3",
   "version": "3.9.7"
  }
 },
 "nbformat": 4,
 "nbformat_minor": 4
}
